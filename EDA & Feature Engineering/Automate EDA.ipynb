{
 "cells": [
  {
   "cell_type": "code",
   "execution_count": 2,
   "metadata": {},
   "outputs": [],
   "source": [
    "!pip install pandas_profiling"
   ]
  },
  {
   "cell_type": "code",
   "execution_count": 3,
   "metadata": {},
   "outputs": [],
   "source": [
    "import pandas_profiling"
   ]
  },
  {
   "cell_type": "code",
   "execution_count": 4,
   "metadata": {},
   "outputs": [],
   "source": [
    "import seaborn as sns"
   ]
  },
  {
   "cell_type": "code",
   "execution_count": 5,
   "metadata": {},
   "outputs": [],
   "source": [
    "df=sns.load_dataset('tips')"
   ]
  },
  {
   "cell_type": "code",
   "execution_count": 6,
   "metadata": {},
   "outputs": [
    {
     "data": {
      "text/html": [
       "<div>\n",
       "<style scoped>\n",
       "    .dataframe tbody tr th:only-of-type {\n",
       "        vertical-align: middle;\n",
       "    }\n",
       "\n",
       "    .dataframe tbody tr th {\n",
       "        vertical-align: top;\n",
       "    }\n",
       "\n",
       "    .dataframe thead th {\n",
       "        text-align: right;\n",
       "    }\n",
       "</style>\n",
       "<table border=\"1\" class=\"dataframe\">\n",
       "  <thead>\n",
       "    <tr style=\"text-align: right;\">\n",
       "      <th></th>\n",
       "      <th>total_bill</th>\n",
       "      <th>tip</th>\n",
       "      <th>sex</th>\n",
       "      <th>smoker</th>\n",
       "      <th>day</th>\n",
       "      <th>time</th>\n",
       "      <th>size</th>\n",
       "    </tr>\n",
       "  </thead>\n",
       "  <tbody>\n",
       "    <tr>\n",
       "      <th>0</th>\n",
       "      <td>16.99</td>\n",
       "      <td>1.01</td>\n",
       "      <td>Female</td>\n",
       "      <td>No</td>\n",
       "      <td>Sun</td>\n",
       "      <td>Dinner</td>\n",
       "      <td>2</td>\n",
       "    </tr>\n",
       "    <tr>\n",
       "      <th>1</th>\n",
       "      <td>10.34</td>\n",
       "      <td>1.66</td>\n",
       "      <td>Male</td>\n",
       "      <td>No</td>\n",
       "      <td>Sun</td>\n",
       "      <td>Dinner</td>\n",
       "      <td>3</td>\n",
       "    </tr>\n",
       "    <tr>\n",
       "      <th>2</th>\n",
       "      <td>21.01</td>\n",
       "      <td>3.50</td>\n",
       "      <td>Male</td>\n",
       "      <td>No</td>\n",
       "      <td>Sun</td>\n",
       "      <td>Dinner</td>\n",
       "      <td>3</td>\n",
       "    </tr>\n",
       "    <tr>\n",
       "      <th>3</th>\n",
       "      <td>23.68</td>\n",
       "      <td>3.31</td>\n",
       "      <td>Male</td>\n",
       "      <td>No</td>\n",
       "      <td>Sun</td>\n",
       "      <td>Dinner</td>\n",
       "      <td>2</td>\n",
       "    </tr>\n",
       "    <tr>\n",
       "      <th>4</th>\n",
       "      <td>24.59</td>\n",
       "      <td>3.61</td>\n",
       "      <td>Female</td>\n",
       "      <td>No</td>\n",
       "      <td>Sun</td>\n",
       "      <td>Dinner</td>\n",
       "      <td>4</td>\n",
       "    </tr>\n",
       "  </tbody>\n",
       "</table>\n",
       "</div>"
      ],
      "text/plain": [
       "   total_bill   tip     sex smoker  day    time  size\n",
       "0       16.99  1.01  Female     No  Sun  Dinner     2\n",
       "1       10.34  1.66    Male     No  Sun  Dinner     3\n",
       "2       21.01  3.50    Male     No  Sun  Dinner     3\n",
       "3       23.68  3.31    Male     No  Sun  Dinner     2\n",
       "4       24.59  3.61  Female     No  Sun  Dinner     4"
      ]
     },
     "execution_count": 6,
     "metadata": {},
     "output_type": "execute_result"
    }
   ],
   "source": [
    "df.head()"
   ]
  },
  {
   "cell_type": "code",
   "execution_count": 7,
   "metadata": {},
   "outputs": [],
   "source": [
    "from pandas_profiling import ProfileReport"
   ]
  },
  {
   "cell_type": "code",
   "execution_count": 8,
   "metadata": {},
   "outputs": [],
   "source": [
    "profile=ProfileReport(df, explorative=True, dark_mode=True)"
   ]
  },
  {
   "cell_type": "code",
   "execution_count": 9,
   "metadata": {},
   "outputs": [
    {
     "data": {
      "application/vnd.jupyter.widget-view+json": {
       "model_id": "f080bb08737945dab96df83550376632",
       "version_major": 2,
       "version_minor": 0
      },
      "text/plain": [
       "Summarize dataset:   0%|          | 0/5 [00:00<?, ?it/s]"
      ]
     },
     "metadata": {},
     "output_type": "display_data"
    },
    {
     "name": "stderr",
     "output_type": "stream",
     "text": [
      "C:\\Users\\MSI\\AppData\\Roaming\\Python\\Python36\\site-packages\\pandas\\core\\strings.py:1541: FutureWarning: split() requires a non-empty pattern match.\n",
      "  f = lambda x: regex.split(x, maxsplit=n)\n",
      "C:\\Users\\MSI\\AppData\\Roaming\\Python\\Python36\\site-packages\\pandas\\core\\strings.py:1541: FutureWarning: split() requires a non-empty pattern match.\n",
      "  f = lambda x: regex.split(x, maxsplit=n)\n",
      "C:\\Users\\MSI\\AppData\\Roaming\\Python\\Python36\\site-packages\\pandas\\core\\strings.py:1541: FutureWarning: split() requires a non-empty pattern match.\n",
      "  f = lambda x: regex.split(x, maxsplit=n)\n",
      "C:\\Users\\MSI\\AppData\\Roaming\\Python\\Python36\\site-packages\\pandas\\core\\strings.py:1541: FutureWarning: split() requires a non-empty pattern match.\n",
      "  f = lambda x: regex.split(x, maxsplit=n)\n"
     ]
    },
    {
     "data": {
      "application/vnd.jupyter.widget-view+json": {
       "model_id": "b7113af9379f47a7a8d6ce1364408e3d",
       "version_major": 2,
       "version_minor": 0
      },
      "text/plain": [
       "Generate report structure:   0%|          | 0/1 [00:00<?, ?it/s]"
      ]
     },
     "metadata": {},
     "output_type": "display_data"
    },
    {
     "data": {
      "application/vnd.jupyter.widget-view+json": {
       "model_id": "dd3a9326ceb34c35991863ed51a4cab6",
       "version_major": 2,
       "version_minor": 0
      },
      "text/plain": [
       "Render HTML:   0%|          | 0/1 [00:00<?, ?it/s]"
      ]
     },
     "metadata": {},
     "output_type": "display_data"
    },
    {
     "data": {
      "application/vnd.jupyter.widget-view+json": {
       "model_id": "7dd5735e584a45c58cbcb89e74d1df15",
       "version_major": 2,
       "version_minor": 0
      },
      "text/plain": [
       "Export report to file:   0%|          | 0/1 [00:00<?, ?it/s]"
      ]
     },
     "metadata": {},
     "output_type": "display_data"
    }
   ],
   "source": [
    "profile.to_file('output.html')"
   ]
  },
  {
   "cell_type": "code",
   "execution_count": 10,
   "metadata": {},
   "outputs": [
    {
     "name": "stdout",
     "output_type": "stream",
     "text": [
      "\n"
     ]
    }
   ],
   "source": [
    "print(profile)"
   ]
  },
  {
   "cell_type": "code",
   "execution_count": 16,
   "metadata": {},
   "outputs": [
    {
     "name": "stdout",
     "output_type": "stream",
     "text": [
      "Defaulting to user installation because normal site-packages is not writeable\n",
      "Collecting dtale\n",
      "  Using cached dtale-2.7.1-py2.py3-none-any.whl (12.8 MB)\n",
      "Requirement already satisfied: missingno<=0.4.2 in c:\\users\\msi\\appdata\\roaming\\python\\python36\\site-packages (from dtale) (0.4.2)\n",
      "Collecting lz4\n",
      "  Using cached lz4-3.1.10.tar.gz (162 kB)\n",
      "Requirement already satisfied: scipy<=1.5.4 in c:\\users\\msi\\appdata\\roaming\\python\\python36\\site-packages (from dtale) (1.5.4)\n",
      "Collecting dash-daq\n",
      "  Using cached dash_daq-0.5.0-py3-none-any.whl\n",
      "Requirement already satisfied: certifi in c:\\program files\\arcgis\\pro\\bin\\python\\envs\\arcgispro-py3\\lib\\site-packages (from dtale) (2020.4.5.1)\n",
      "Collecting dash-bootstrap-components\n",
      "  Using cached dash_bootstrap_components-1.2.1-py3-none-any.whl (216 kB)\n",
      "Collecting flask-ngrok\n",
      "  Using cached flask_ngrok-0.0.25-py3-none-any.whl (3.1 kB)\n",
      "Requirement already satisfied: dash==2.0.0 in c:\\users\\msi\\appdata\\roaming\\python\\python36\\site-packages (from dtale) (2.0.0)\n",
      "Requirement already satisfied: statsmodels==0.12.2 in c:\\users\\msi\\appdata\\roaming\\python\\python36\\site-packages (from dtale) (0.12.2)\n",
      "Requirement already satisfied: pillow==8.4.0 in c:\\users\\msi\\appdata\\roaming\\python\\python36\\site-packages (from dtale) (8.4.0)\n",
      "Requirement already satisfied: MarkupSafe==2.0.1 in c:\\users\\msi\\appdata\\roaming\\python\\python36\\site-packages (from dtale) (2.0.1)\n",
      "Requirement already satisfied: numpy in c:\\users\\msi\\appdata\\roaming\\python\\python36\\site-packages (from dtale) (1.19.5)\n",
      "Collecting kaleido==0.1.0\n",
      "  Using cached kaleido-0.1.0-py2.py3-none-win_amd64.whl (56.0 MB)\n",
      "Requirement already satisfied: six in c:\\program files\\arcgis\\pro\\bin\\python\\envs\\arcgispro-py3\\lib\\site-packages (from dtale) (1.14.0)\n",
      "Requirement already satisfied: itsdangerous<=1.1.0 in c:\\users\\msi\\appdata\\roaming\\python\\python36\\site-packages (from dtale) (1.1.0)\n",
      "Requirement already satisfied: scikit-learn==0.24.2 in c:\\users\\msi\\appdata\\roaming\\python\\python36\\site-packages (from dtale) (0.24.2)\n",
      "Requirement already satisfied: strsimpy in c:\\users\\msi\\appdata\\roaming\\python\\python36\\site-packages (from dtale) (0.2.1)\n",
      "Collecting dash-colorscales\n",
      "  Using cached dash_colorscales-0.0.4-py3-none-any.whl\n",
      "Requirement already satisfied: kiwisolver==1.1.0 in c:\\users\\msi\\appdata\\roaming\\python\\python36\\site-packages (from dtale) (1.1.0)\n",
      "Requirement already satisfied: seaborn==0.11.2 in c:\\users\\msi\\appdata\\roaming\\python\\python36\\site-packages (from dtale) (0.11.2)\n",
      "Requirement already satisfied: squarify in c:\\users\\msi\\appdata\\roaming\\python\\python36\\site-packages (from dtale) (0.4.3)\n",
      "Requirement already satisfied: pandas in c:\\users\\msi\\appdata\\roaming\\python\\python36\\site-packages (from dtale) (1.1.5)\n",
      "Requirement already satisfied: packaging<=21.0 in c:\\program files\\arcgis\\pro\\bin\\python\\envs\\arcgispro-py3\\lib\\site-packages (from dtale) (20.3)\n",
      "Requirement already satisfied: future>=0.14.0 in c:\\program files\\arcgis\\pro\\bin\\python\\envs\\arcgispro-py3\\lib\\site-packages\\future-0.18.2-py3.6.egg (from dtale) (0.18.2)\n",
      "Requirement already satisfied: matplotlib==3.3.4 in c:\\users\\msi\\appdata\\roaming\\python\\python36\\site-packages (from dtale) (3.3.4)\n",
      "Requirement already satisfied: Flask<=1.1.4 in c:\\users\\msi\\appdata\\roaming\\python\\python36\\site-packages (from dtale) (1.1.4)\n",
      "Requirement already satisfied: cycler in c:\\program files\\arcgis\\pro\\bin\\python\\envs\\arcgispro-py3\\lib\\site-packages (from dtale) (0.10.0)\n",
      "Requirement already satisfied: openpyxl in c:\\program files\\arcgis\\pro\\bin\\python\\envs\\arcgispro-py3\\lib\\site-packages (from dtale) (3.0.3)\n",
      "Requirement already satisfied: Flask-Compress in c:\\users\\msi\\appdata\\roaming\\python\\python36\\site-packages (from dtale) (1.12)\n",
      "Requirement already satisfied: networkx==2.5.1 in c:\\users\\msi\\appdata\\roaming\\python\\python36\\site-packages (from dtale) (2.5.1)\n",
      "Requirement already satisfied: plotly>=5.0.0 in c:\\users\\msi\\appdata\\roaming\\python\\python36\\site-packages (from dtale) (5.10.0)\n",
      "Requirement already satisfied: xlrd in c:\\program files\\arcgis\\pro\\bin\\python\\envs\\arcgispro-py3\\lib\\site-packages (from dtale) (1.2.0)\n",
      "Requirement already satisfied: requests in c:\\users\\msi\\appdata\\roaming\\python\\python36\\site-packages (from dtale) (2.27.1)\n",
      "Requirement already satisfied: xarray in c:\\program files\\arcgis\\pro\\bin\\python\\envs\\arcgispro-py3\\lib\\site-packages (from dtale) (0.15.1)\n",
      "Requirement already satisfied: et-xmlfile in c:\\program files\\arcgis\\pro\\bin\\python\\envs\\arcgispro-py3\\lib\\site-packages (from dtale) (1.0.1)\n",
      "Requirement already satisfied: dash-core-components==2.0.0 in c:\\users\\msi\\appdata\\roaming\\python\\python36\\site-packages (from dash==2.0.0->dtale) (2.0.0)\n",
      "Requirement already satisfied: dash-html-components==2.0.0 in c:\\users\\msi\\appdata\\roaming\\python\\python36\\site-packages (from dash==2.0.0->dtale) (2.0.0)\n",
      "Requirement already satisfied: dash-table==5.0.0 in c:\\users\\msi\\appdata\\roaming\\python\\python36\\site-packages (from dash==2.0.0->dtale) (5.0.0)\n",
      "Requirement already satisfied: setuptools in c:\\program files\\arcgis\\pro\\bin\\python\\envs\\arcgispro-py3\\lib\\site-packages (from kiwisolver==1.1.0->dtale) (46.1.3.post20200330)\n",
      "Requirement already satisfied: python-dateutil>=2.1 in c:\\program files\\arcgis\\pro\\bin\\python\\envs\\arcgispro-py3\\lib\\site-packages (from matplotlib==3.3.4->dtale) (2.8.1)\n",
      "Requirement already satisfied: pyparsing!=2.0.4,!=2.1.2,!=2.1.6,>=2.0.3 in c:\\program files\\arcgis\\pro\\bin\\python\\envs\\arcgispro-py3\\lib\\site-packages (from matplotlib==3.3.4->dtale) (2.4.7)\n",
      "Requirement already satisfied: decorator<5,>=4.3 in c:\\program files\\arcgis\\pro\\bin\\python\\envs\\arcgispro-py3\\lib\\site-packages (from networkx==2.5.1->dtale) (4.4.2)\n",
      "Requirement already satisfied: threadpoolctl>=2.0.0 in c:\\users\\msi\\appdata\\roaming\\python\\python36\\site-packages (from scikit-learn==0.24.2->dtale) (3.1.0)\n",
      "Requirement already satisfied: joblib>=0.11 in c:\\users\\msi\\appdata\\roaming\\python\\python36\\site-packages (from scikit-learn==0.24.2->dtale) (1.0.1)\n",
      "Requirement already satisfied: patsy>=0.5 in c:\\users\\msi\\appdata\\roaming\\python\\python36\\site-packages (from statsmodels==0.12.2->dtale) (0.5.2)\n",
      "Requirement already satisfied: Werkzeug<2.0,>=0.15 in c:\\program files\\arcgis\\pro\\bin\\python\\envs\\arcgispro-py3\\lib\\site-packages (from Flask<=1.1.4->dtale) (0.16.1)\n",
      "Requirement already satisfied: Jinja2<3.0,>=2.10.1 in c:\\program files\\arcgis\\pro\\bin\\python\\envs\\arcgispro-py3\\lib\\site-packages (from Flask<=1.1.4->dtale) (2.11.2)\n",
      "Requirement already satisfied: click<8.0,>=5.1 in c:\\program files\\arcgis\\pro\\bin\\python\\envs\\arcgispro-py3\\lib\\site-packages (from Flask<=1.1.4->dtale) (7.1.2)\n",
      "Requirement already satisfied: pytz>=2017.2 in c:\\program files\\arcgis\\pro\\bin\\python\\envs\\arcgispro-py3\\lib\\site-packages\\pytz-2019.3-py3.6.egg (from pandas->dtale) (2019.3)\n",
      "Requirement already satisfied: tenacity>=6.2.0 in c:\\users\\msi\\appdata\\roaming\\python\\python36\\site-packages (from plotly>=5.0.0->dtale) (8.0.1)\n",
      "Requirement already satisfied: brotli in c:\\users\\msi\\appdata\\roaming\\python\\python36\\site-packages (from Flask-Compress->dtale) (1.0.9)\n",
      "Requirement already satisfied: jdcal in c:\\program files\\arcgis\\pro\\bin\\python\\envs\\arcgispro-py3\\lib\\site-packages (from openpyxl->dtale) (1.4.1)\n",
      "Requirement already satisfied: charset-normalizer~=2.0.0 in c:\\users\\msi\\appdata\\roaming\\python\\python36\\site-packages (from requests->dtale) (2.0.12)\n",
      "Requirement already satisfied: urllib3<1.27,>=1.21.1 in c:\\program files\\arcgis\\pro\\bin\\python\\envs\\arcgispro-py3\\lib\\site-packages (from requests->dtale) (1.25.8)\n",
      "Requirement already satisfied: idna<4,>=2.5 in c:\\program files\\arcgis\\pro\\bin\\python\\envs\\arcgispro-py3\\lib\\site-packages (from requests->dtale) (2.9)\n",
      "Building wheels for collected packages: lz4\n",
      "  Building wheel for lz4 (setup.py): started\n",
      "  Building wheel for lz4 (setup.py): finished with status 'error'\n",
      "  Running setup.py clean for lz4\n",
      "Failed to build lz4\n",
      "Installing collected packages: lz4, kaleido, flask-ngrok, dash-daq, dash-colorscales, dash-bootstrap-components, dtale\n",
      "    Running setup.py install for lz4: started\n",
      "    Running setup.py install for lz4: finished with status 'error'\n"
     ]
    },
    {
     "name": "stderr",
     "output_type": "stream",
     "text": [
      "  ERROR: Command errored out with exit status 1:\n",
      "   command: 'c:\\program files\\arcgis\\pro\\bin\\python\\envs\\arcgispro-py3\\python.exe' -u -c 'import io, os, sys, setuptools, tokenize; sys.argv[0] = '\"'\"'C:\\\\Users\\\\MSI\\\\AppData\\\\Local\\\\Temp\\\\pip-install-x7xy8o57\\\\lz4_0df080b79fe74bdf923f2953dc39c764\\\\setup.py'\"'\"'; __file__='\"'\"'C:\\\\Users\\\\MSI\\\\AppData\\\\Local\\\\Temp\\\\pip-install-x7xy8o57\\\\lz4_0df080b79fe74bdf923f2953dc39c764\\\\setup.py'\"'\"';f = getattr(tokenize, '\"'\"'open'\"'\"', open)(__file__) if os.path.exists(__file__) else io.StringIO('\"'\"'from setuptools import setup; setup()'\"'\"');code = f.read().replace('\"'\"'\\r\\n'\"'\"', '\"'\"'\\n'\"'\"');f.close();exec(compile(code, __file__, '\"'\"'exec'\"'\"'))' bdist_wheel -d 'C:\\Users\\MSI\\AppData\\Local\\Temp\\pip-wheel-ia_qslr7'\n",
      "       cwd: C:\\Users\\MSI\\AppData\\Local\\Temp\\pip-install-x7xy8o57\\lz4_0df080b79fe74bdf923f2953dc39c764\\\n",
      "  Complete output (17 lines):\n",
      "  running bdist_wheel\n",
      "  running build\n",
      "  running build_py\n",
      "  creating build\n",
      "  creating build\\lib.win-amd64-3.6\n",
      "  creating build\\lib.win-amd64-3.6\\lz4\n",
      "  copying lz4\\version.py -> build\\lib.win-amd64-3.6\\lz4\n",
      "  copying lz4\\__init__.py -> build\\lib.win-amd64-3.6\\lz4\n",
      "  creating build\\lib.win-amd64-3.6\\lz4\\block\n",
      "  copying lz4\\block\\__init__.py -> build\\lib.win-amd64-3.6\\lz4\\block\n",
      "  creating build\\lib.win-amd64-3.6\\lz4\\frame\n",
      "  copying lz4\\frame\\__init__.py -> build\\lib.win-amd64-3.6\\lz4\\frame\n",
      "  creating build\\lib.win-amd64-3.6\\lz4\\stream\n",
      "  copying lz4\\stream\\__init__.py -> build\\lib.win-amd64-3.6\\lz4\\stream\n",
      "  running build_ext\n",
      "  building 'lz4._version' extension\n",
      "  error: Microsoft Visual C++ 14.0 is required. Get it with \"Build Tools for Visual Studio\": https://visualstudio.microsoft.com/downloads/\n",
      "  ----------------------------------------\n",
      "  ERROR: Failed building wheel for lz4\n",
      "    ERROR: Command errored out with exit status 1:\n",
      "     command: 'c:\\program files\\arcgis\\pro\\bin\\python\\envs\\arcgispro-py3\\python.exe' -u -c 'import io, os, sys, setuptools, tokenize; sys.argv[0] = '\"'\"'C:\\\\Users\\\\MSI\\\\AppData\\\\Local\\\\Temp\\\\pip-install-x7xy8o57\\\\lz4_0df080b79fe74bdf923f2953dc39c764\\\\setup.py'\"'\"'; __file__='\"'\"'C:\\\\Users\\\\MSI\\\\AppData\\\\Local\\\\Temp\\\\pip-install-x7xy8o57\\\\lz4_0df080b79fe74bdf923f2953dc39c764\\\\setup.py'\"'\"';f = getattr(tokenize, '\"'\"'open'\"'\"', open)(__file__) if os.path.exists(__file__) else io.StringIO('\"'\"'from setuptools import setup; setup()'\"'\"');code = f.read().replace('\"'\"'\\r\\n'\"'\"', '\"'\"'\\n'\"'\"');f.close();exec(compile(code, __file__, '\"'\"'exec'\"'\"'))' install --record 'C:\\Users\\MSI\\AppData\\Local\\Temp\\pip-record-tstxdym4\\install-record.txt' --single-version-externally-managed --user --prefix= --compile --install-headers 'C:\\Users\\MSI\\AppData\\Roaming\\Python\\Python36\\Include\\lz4'\n",
      "         cwd: C:\\Users\\MSI\\AppData\\Local\\Temp\\pip-install-x7xy8o57\\lz4_0df080b79fe74bdf923f2953dc39c764\\\n",
      "    Complete output (17 lines):\n",
      "    running install\n",
      "    running build\n",
      "    running build_py\n",
      "    creating build\n",
      "    creating build\\lib.win-amd64-3.6\n",
      "    creating build\\lib.win-amd64-3.6\\lz4\n",
      "    copying lz4\\version.py -> build\\lib.win-amd64-3.6\\lz4\n",
      "    copying lz4\\__init__.py -> build\\lib.win-amd64-3.6\\lz4\n",
      "    creating build\\lib.win-amd64-3.6\\lz4\\block\n",
      "    copying lz4\\block\\__init__.py -> build\\lib.win-amd64-3.6\\lz4\\block\n",
      "    creating build\\lib.win-amd64-3.6\\lz4\\frame\n",
      "    copying lz4\\frame\\__init__.py -> build\\lib.win-amd64-3.6\\lz4\\frame\n",
      "    creating build\\lib.win-amd64-3.6\\lz4\\stream\n",
      "    copying lz4\\stream\\__init__.py -> build\\lib.win-amd64-3.6\\lz4\\stream\n",
      "    running build_ext\n",
      "    building 'lz4._version' extension\n",
      "    error: Microsoft Visual C++ 14.0 is required. Get it with \"Build Tools for Visual Studio\": https://visualstudio.microsoft.com/downloads/\n",
      "    ----------------------------------------\n",
      "ERROR: Command errored out with exit status 1: 'c:\\program files\\arcgis\\pro\\bin\\python\\envs\\arcgispro-py3\\python.exe' -u -c 'import io, os, sys, setuptools, tokenize; sys.argv[0] = '\"'\"'C:\\\\Users\\\\MSI\\\\AppData\\\\Local\\\\Temp\\\\pip-install-x7xy8o57\\\\lz4_0df080b79fe74bdf923f2953dc39c764\\\\setup.py'\"'\"'; __file__='\"'\"'C:\\\\Users\\\\MSI\\\\AppData\\\\Local\\\\Temp\\\\pip-install-x7xy8o57\\\\lz4_0df080b79fe74bdf923f2953dc39c764\\\\setup.py'\"'\"';f = getattr(tokenize, '\"'\"'open'\"'\"', open)(__file__) if os.path.exists(__file__) else io.StringIO('\"'\"'from setuptools import setup; setup()'\"'\"');code = f.read().replace('\"'\"'\\r\\n'\"'\"', '\"'\"'\\n'\"'\"');f.close();exec(compile(code, __file__, '\"'\"'exec'\"'\"'))' install --record 'C:\\Users\\MSI\\AppData\\Local\\Temp\\pip-record-tstxdym4\\install-record.txt' --single-version-externally-managed --user --prefix= --compile --install-headers 'C:\\Users\\MSI\\AppData\\Roaming\\Python\\Python36\\Include\\lz4' Check the logs for full command output.\n",
      "WARNING: You are using pip version 21.2.4; however, version 21.3.1 is available.\n",
      "You should consider upgrading via the 'c:\\program files\\arcgis\\pro\\bin\\python\\envs\\arcgispro-py3\\python.exe -m pip install --upgrade pip' command.\n"
     ]
    }
   ],
   "source": [
    "!pip install dtale"
   ]
  },
  {
   "cell_type": "code",
   "execution_count": 2,
   "metadata": {},
   "outputs": [],
   "source": [
    "import pandas as pd\n",
    "import seaborn as sns"
   ]
  },
  {
   "cell_type": "code",
   "execution_count": 3,
   "metadata": {},
   "outputs": [],
   "source": [
    "df=sns.load_dataset('titanic')"
   ]
  },
  {
   "cell_type": "code",
   "execution_count": 5,
   "metadata": {},
   "outputs": [
    {
     "name": "stdout",
     "output_type": "stream",
     "text": [
      "Collecting xarray==2022.3.0\n",
      "  Downloading xarray-2022.3.0-py3-none-any.whl (870 kB)\n",
      "Requirement already satisfied: pandas>=1.1 in c:\\users\\msi\\anaconda3\\lib\\site-packages (from xarray==2022.3.0) (1.3.4)\n",
      "Requirement already satisfied: packaging>=20.0 in c:\\users\\msi\\anaconda3\\lib\\site-packages (from xarray==2022.3.0) (20.4)\n",
      "Requirement already satisfied: numpy>=1.18 in c:\\users\\msi\\anaconda3\\lib\\site-packages (from xarray==2022.3.0) (1.23.2)\n",
      "Requirement already satisfied: pyparsing>=2.0.2 in c:\\users\\msi\\anaconda3\\lib\\site-packages (from packaging>=20.0->xarray==2022.3.0) (2.4.7)\n",
      "Requirement already satisfied: six in c:\\users\\msi\\anaconda3\\lib\\site-packages (from packaging>=20.0->xarray==2022.3.0) (1.15.0)\n",
      "Requirement already satisfied: python-dateutil>=2.7.3 in c:\\users\\msi\\anaconda3\\lib\\site-packages (from pandas>=1.1->xarray==2022.3.0) (2.8.1)\n",
      "Requirement already satisfied: pytz>=2017.3 in c:\\users\\msi\\anaconda3\\lib\\site-packages (from pandas>=1.1->xarray==2022.3.0) (2020.1)\n",
      "Installing collected packages: xarray\n",
      "  Attempting uninstall: xarray\n",
      "    Found existing installation: xarray 2022.6.0\n",
      "    Uninstalling xarray-2022.6.0:\n",
      "      Successfully uninstalled xarray-2022.6.0\n",
      "Successfully installed xarray-2022.3.0\n",
      "Note: you may need to restart the kernel to use updated packages.\n"
     ]
    },
    {
     "name": "stderr",
     "output_type": "stream",
     "text": [
      "WARNING: You are using pip version 21.3.1; however, version 22.2.2 is available.\n",
      "You should consider upgrading via the 'C:\\Users\\MSI\\anaconda3\\python.exe -m pip install --upgrade pip' command.\n"
     ]
    }
   ],
   "source": [
    "pip install --upgrade xarray==2022.3.0"
   ]
  },
  {
   "cell_type": "code",
   "execution_count": 11,
   "metadata": {},
   "outputs": [
    {
     "name": "stdout",
     "output_type": "stream",
     "text": [
      "Requirement already satisfied: statsmodels in c:\\users\\msi\\anaconda3\\lib\\site-packages (0.12.0)\n",
      "Collecting statsmodels\n",
      "  Downloading statsmodels-0.13.2-cp38-cp38-win_amd64.whl (9.1 MB)\n",
      "Collecting packaging>=21.3\n",
      "  Downloading packaging-21.3-py3-none-any.whl (40 kB)\n",
      "Requirement already satisfied: scipy>=1.3 in c:\\users\\msi\\anaconda3\\lib\\site-packages (from statsmodels) (1.8.1)\n",
      "Requirement already satisfied: numpy>=1.17 in c:\\users\\msi\\anaconda3\\lib\\site-packages (from statsmodels) (1.23.2)\n",
      "Collecting patsy>=0.5.2\n",
      "  Using cached patsy-0.5.2-py2.py3-none-any.whl (233 kB)\n",
      "Requirement already satisfied: pandas>=0.25 in c:\\users\\msi\\anaconda3\\lib\\site-packages (from statsmodels) (1.3.4)\n",
      "Requirement already satisfied: pyparsing!=3.0.5,>=2.0.2 in c:\\users\\msi\\anaconda3\\lib\\site-packages (from packaging>=21.3->statsmodels) (2.4.7)\n",
      "Requirement already satisfied: pytz>=2017.3 in c:\\users\\msi\\anaconda3\\lib\\site-packages (from pandas>=0.25->statsmodels) (2020.1)\n",
      "Requirement already satisfied: python-dateutil>=2.7.3 in c:\\users\\msi\\anaconda3\\lib\\site-packages (from pandas>=0.25->statsmodels) (2.8.1)\n",
      "Requirement already satisfied: six in c:\\users\\msi\\anaconda3\\lib\\site-packages (from patsy>=0.5.2->statsmodels) (1.15.0)\n",
      "Installing collected packages: patsy, packaging, statsmodels\n",
      "  Attempting uninstall: patsy\n",
      "    Found existing installation: patsy 0.5.1\n",
      "    Uninstalling patsy-0.5.1:\n",
      "      Successfully uninstalled patsy-0.5.1\n",
      "  Attempting uninstall: packaging\n",
      "    Found existing installation: packaging 20.4\n",
      "    Uninstalling packaging-20.4:\n",
      "      Successfully uninstalled packaging-20.4\n",
      "  Attempting uninstall: statsmodels\n",
      "Note: you may need to restart the kernel to use updated packages.    Found existing installation: statsmodels 0.12.0\n",
      "    Uninstalling statsmodels-0.12.0:\n",
      "      Successfully uninstalled statsmodels-0.12.0\n",
      "\n"
     ]
    },
    {
     "name": "stderr",
     "output_type": "stream",
     "text": [
      "ERROR: Could not install packages due to an OSError: [WinError 5] Access is denied: 'C:\\\\Users\\\\MSI\\\\anaconda3\\\\Lib\\\\site-packages\\\\~tatsmodels\\\\tsa\\\\_stl.cp38-win_amd64.pyd'\n",
      "Consider using the `--user` option or check the permissions.\n",
      "\n",
      "WARNING: You are using pip version 21.3.1; however, version 22.2.2 is available.\n",
      "You should consider upgrading via the 'C:\\Users\\MSI\\anaconda3\\python.exe -m pip install --upgrade pip' command.\n"
     ]
    }
   ],
   "source": [
    "pip install statsmodels --upgrade"
   ]
  },
  {
   "cell_type": "code",
   "execution_count": 12,
   "metadata": {},
   "outputs": [
    {
     "data": {
      "text/html": [
       "\n",
       "        <iframe\n",
       "            width=\"100%\"\n",
       "            height=\"475\"\n",
       "            src=\"http://DESKTOP-5COLHO9:40000/dtale/iframe/1\"\n",
       "            frameborder=\"0\"\n",
       "            allowfullscreen\n",
       "        ></iframe>\n",
       "        "
      ],
      "text/plain": [
       "<IPython.lib.display.IFrame at 0x15e5d73fbb0>"
      ]
     },
     "metadata": {},
     "output_type": "display_data"
    },
    {
     "data": {
      "text/plain": []
     },
     "execution_count": 12,
     "metadata": {},
     "output_type": "execute_result"
    },
    {
     "name": "stderr",
     "output_type": "stream",
     "text": [
      "2022-08-16 22:22:46,306 - WARNING  - findfont: Font family ['Heiti TC'] not found. Falling back to DejaVu Sans.\n",
      "2022-08-16 22:22:46,380 - WARNING  - findfont: Font family ['Heiti TC'] not found. Falling back to DejaVu Sans.\n",
      "2022-08-16 22:22:46,409 - WARNING  - findfont: Font family ['Heiti TC'] not found. Falling back to DejaVu Sans.\n",
      "2022-08-16 22:22:46,424 - WARNING  - findfont: Font family ['Heiti TC'] not found. Falling back to DejaVu Sans.\n"
     ]
    },
    {
     "name": "stdout",
     "output_type": "stream",
     "text": [
      "Exception on /dtale/charts/_dash-update-component [POST]\n",
      "Traceback (most recent call last):\n",
      "  File \"C:\\Users\\MSI\\anaconda3\\lib\\site-packages\\flask\\app.py\", line 2447, in wsgi_app\n",
      "    response = self.full_dispatch_request()\n",
      "  File \"C:\\Users\\MSI\\anaconda3\\lib\\site-packages\\flask\\app.py\", line 1952, in full_dispatch_request\n",
      "    rv = self.handle_user_exception(e)\n",
      "  File \"C:\\Users\\MSI\\anaconda3\\lib\\site-packages\\flask\\app.py\", line 1821, in handle_user_exception\n",
      "    reraise(exc_type, exc_value, tb)\n",
      "  File \"C:\\Users\\MSI\\anaconda3\\lib\\site-packages\\flask\\_compat.py\", line 39, in reraise\n",
      "    raise value\n",
      "  File \"C:\\Users\\MSI\\anaconda3\\lib\\site-packages\\flask\\app.py\", line 1950, in full_dispatch_request\n",
      "    rv = self.dispatch_request()\n",
      "  File \"C:\\Users\\MSI\\anaconda3\\lib\\site-packages\\flask\\app.py\", line 1936, in dispatch_request\n",
      "    return self.view_functions[rule.endpoint](**req.view_args)\n",
      "  File \"C:\\Users\\MSI\\anaconda3\\lib\\site-packages\\dash\\dash.py\", line 1259, in dispatch\n",
      "    ctx.run(\n",
      "  File \"C:\\Users\\MSI\\anaconda3\\lib\\site-packages\\dash\\_callback.py\", line 439, in add_context\n",
      "    output_value = func(*func_args, **func_kwargs)  # %% callback invoked %%\n",
      "  File \"C:\\Users\\MSI\\anaconda3\\lib\\site-packages\\dtale\\dash_application\\views.py\", line 1234, in group_values\n",
      "    group_vals = build_group_val_options(group_vals, group_cols)\n",
      "  File \"C:\\Users\\MSI\\anaconda3\\lib\\site-packages\\dtale\\dash_application\\layout\\layout.py\", line 1217, in build_group_val_options\n",
      "    group_vals = find_group_vals(df, group_cols)\n",
      "  File \"C:\\Users\\MSI\\anaconda3\\lib\\site-packages\\dtale\\charts\\utils.py\", line 998, in find_group_vals\n",
      "    group_vals, _ = retrieve_chart_data(df, group_cols)\n",
      "  File \"C:\\Users\\MSI\\anaconda3\\lib\\site-packages\\dtale\\charts\\utils.py\", line 346, in retrieve_chart_data\n",
      "    all_data = pd.concat(all_data, axis=1)\n",
      "  File \"C:\\Users\\MSI\\anaconda3\\lib\\site-packages\\pandas\\util\\_decorators.py\", line 311, in wrapper\n",
      "    return func(*args, **kwargs)\n",
      "  File \"C:\\Users\\MSI\\anaconda3\\lib\\site-packages\\pandas\\core\\reshape\\concat.py\", line 294, in concat\n",
      "    op = _Concatenator(\n",
      "  File \"C:\\Users\\MSI\\anaconda3\\lib\\site-packages\\pandas\\core\\reshape\\concat.py\", line 351, in __init__\n",
      "    raise ValueError(\"No objects to concatenate\")\n",
      "ValueError: No objects to concatenate\n"
     ]
    },
    {
     "name": "stderr",
     "output_type": "stream",
     "text": [
      "2022-08-16 22:33:01,388 - ERROR    - Exception on /dtale/charts/_dash-update-component [POST]\n",
      "Traceback (most recent call last):\n",
      "  File \"C:\\Users\\MSI\\anaconda3\\lib\\site-packages\\flask\\app.py\", line 2447, in wsgi_app\n",
      "    response = self.full_dispatch_request()\n",
      "  File \"C:\\Users\\MSI\\anaconda3\\lib\\site-packages\\flask\\app.py\", line 1952, in full_dispatch_request\n",
      "    rv = self.handle_user_exception(e)\n",
      "  File \"C:\\Users\\MSI\\anaconda3\\lib\\site-packages\\flask\\app.py\", line 1821, in handle_user_exception\n",
      "    reraise(exc_type, exc_value, tb)\n",
      "  File \"C:\\Users\\MSI\\anaconda3\\lib\\site-packages\\flask\\_compat.py\", line 39, in reraise\n",
      "    raise value\n",
      "  File \"C:\\Users\\MSI\\anaconda3\\lib\\site-packages\\flask\\app.py\", line 1950, in full_dispatch_request\n",
      "    rv = self.dispatch_request()\n",
      "  File \"C:\\Users\\MSI\\anaconda3\\lib\\site-packages\\flask\\app.py\", line 1936, in dispatch_request\n",
      "    return self.view_functions[rule.endpoint](**req.view_args)\n",
      "  File \"C:\\Users\\MSI\\anaconda3\\lib\\site-packages\\dash\\dash.py\", line 1259, in dispatch\n",
      "    ctx.run(\n",
      "  File \"C:\\Users\\MSI\\anaconda3\\lib\\site-packages\\dash\\_callback.py\", line 439, in add_context\n",
      "    output_value = func(*func_args, **func_kwargs)  # %% callback invoked %%\n",
      "  File \"C:\\Users\\MSI\\anaconda3\\lib\\site-packages\\dtale\\dash_application\\views.py\", line 1234, in group_values\n",
      "    group_vals = build_group_val_options(group_vals, group_cols)\n",
      "  File \"C:\\Users\\MSI\\anaconda3\\lib\\site-packages\\dtale\\dash_application\\layout\\layout.py\", line 1217, in build_group_val_options\n",
      "    group_vals = find_group_vals(df, group_cols)\n",
      "  File \"C:\\Users\\MSI\\anaconda3\\lib\\site-packages\\dtale\\charts\\utils.py\", line 998, in find_group_vals\n",
      "    group_vals, _ = retrieve_chart_data(df, group_cols)\n",
      "  File \"C:\\Users\\MSI\\anaconda3\\lib\\site-packages\\dtale\\charts\\utils.py\", line 346, in retrieve_chart_data\n",
      "    all_data = pd.concat(all_data, axis=1)\n",
      "  File \"C:\\Users\\MSI\\anaconda3\\lib\\site-packages\\pandas\\util\\_decorators.py\", line 311, in wrapper\n",
      "    return func(*args, **kwargs)\n",
      "  File \"C:\\Users\\MSI\\anaconda3\\lib\\site-packages\\pandas\\core\\reshape\\concat.py\", line 294, in concat\n",
      "    op = _Concatenator(\n",
      "  File \"C:\\Users\\MSI\\anaconda3\\lib\\site-packages\\pandas\\core\\reshape\\concat.py\", line 351, in __init__\n",
      "    raise ValueError(\"No objects to concatenate\")\n",
      "ValueError: No objects to concatenate\n"
     ]
    },
    {
     "name": "stdout",
     "output_type": "stream",
     "text": [
      "Executing shutdown due to inactivity...\n"
     ]
    },
    {
     "name": "stderr",
     "output_type": "stream",
     "text": [
      "2022-08-16 23:33:01,886 - INFO     - Executing shutdown due to inactivity...\n"
     ]
    },
    {
     "name": "stdout",
     "output_type": "stream",
     "text": [
      "Executing shutdown...\n"
     ]
    },
    {
     "name": "stderr",
     "output_type": "stream",
     "text": [
      "2022-08-16 23:33:06,087 - INFO     - Executing shutdown...\n"
     ]
    }
   ],
   "source": [
    "import dtale\n",
    "dtale.show(df)"
   ]
  },
  {
   "cell_type": "code",
   "execution_count": null,
   "metadata": {},
   "outputs": [],
   "source": []
  }
 ],
 "metadata": {
  "kernelspec": {
   "display_name": "Python 3",
   "language": "python",
   "name": "python3"
  },
  "language_info": {
   "codemirror_mode": {
    "name": "ipython",
    "version": 3
   },
   "file_extension": ".py",
   "mimetype": "text/x-python",
   "name": "python",
   "nbconvert_exporter": "python",
   "pygments_lexer": "ipython3",
   "version": "3.8.5"
  }
 },
 "nbformat": 4,
 "nbformat_minor": 4
}
